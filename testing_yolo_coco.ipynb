{
 "cells": [
  {
   "cell_type": "code",
   "execution_count": 18,
   "metadata": {},
   "outputs": [],
   "source": [
    "import numpy as np\n",
    "import imutils\n",
    "import time\n",
    "import cv2\n",
    "import os"
   ]
  },
  {
   "cell_type": "code",
   "execution_count": 19,
   "metadata": {},
   "outputs": [
    {
     "name": "stdout",
     "output_type": "stream",
     "text": [
      "[INFO] loading YOLO from disk...\n"
     ]
    }
   ],
   "source": [
    "label_path = 'data/coco.names'\n",
    "config_path = 'data/yolov3-tiny.cfg'\n",
    "weights_path = 'data/yolov3-tiny.weights'\n",
    "writer_path = '../../../Desktop/yolo_test.avi'\n",
    "\n",
    "# Import labels & color setup\n",
    "labels = open(label_path).read().strip().split(\"\\n\")\n",
    "np.random.seed(42)\n",
    "colors = np.random.randint(0, 255, size=(len(labels), 3), dtype=\"uint8\")\n",
    "\n",
    "# Load model\n",
    "print(\"[INFO] loading YOLO from disk...\")\n",
    "net = cv2.dnn.readNetFromDarknet(config_path, weights_path)\n",
    "ln = net.getLayerNames()\n",
    "ln = [ln[i[0] - 1] for i in net.getUnconnectedOutLayers()]\n",
    "\n",
    "# Parameters setup\n",
    "conf_threshold = 0.5    # Confidence threshold\n",
    "nms_threshold = 0.4    # Non-maximum suppression threshold\n",
    "\n",
    "# Video resolution\n",
    "cap = cv2.VideoCapture(0)\n",
    "grabbed, frame = cap.read()\n",
    "(frame_height, frame_width) = frame.shape[:2]\n",
    "cap.release()"
   ]
  },
  {
   "cell_type": "code",
   "execution_count": 20,
   "metadata": {},
   "outputs": [],
   "source": [
    "def process_outputs(outputs, frame_width, frame_height, conf_threshold, nms_threshold):\n",
    "    # Reset bounding boxes, confidences\n",
    "    boxes = []\n",
    "    confidences = []\n",
    "    class_ids = []\n",
    "    \n",
    "    for output in outputs:\n",
    "        for detection in output:\n",
    "            scores = detection[5:]\n",
    "            class_id = np.argmax(scores)\n",
    "            confidence = scores[class_id]\n",
    "            \n",
    "            if confidence > conf_threshold:\n",
    "                # Scale bounding boxes back to frame\n",
    "                box = detection[0:4] * np.array([frame_width, frame_height, frame_width, frame_height])\n",
    "                (center_x, center_y, width, height) = box.astype(\"int\")\n",
    "                \n",
    "                # Upper-left corner\n",
    "                x = int(center_x - (width / 2))\n",
    "                y = int(center_y - (height / 2))\n",
    "                \n",
    "                boxes.append([x, y, int(width), int(height)])\n",
    "                confidences.append(float(confidence))\n",
    "                class_ids.append(class_id)\n",
    "    \n",
    "    # Apply non-maxima suppression\n",
    "    selected = cv2.dnn.NMSBoxes(boxes, confidences, conf_threshold, nms_threshold)\n",
    "    \n",
    "    return boxes, confidences, class_ids, selected"
   ]
  },
  {
   "cell_type": "code",
   "execution_count": 21,
   "metadata": {},
   "outputs": [],
   "source": [
    "def draw_predictions(frame, boxes, confidences, class_ids, selected, labels, colors):\n",
    "    if len(selected) > 0:\n",
    "        for i in selected.flatten():\n",
    "            (x, y) = (boxes[i][0], boxes[i][1])\n",
    "            (w, h) = (boxes[i][2], boxes[i][3])\n",
    "            \n",
    "            color = [int(c) for c in colors[class_ids[i]]]\n",
    "            cv2.rectangle(frame, (x, y), (x + w, y + h), color, 2)\n",
    "            text = \"{}: {:.2f}\".format(labels[class_ids[i]], confidences[i])\n",
    "            cv2.putText(frame, text, (x, y - 5), cv2.FONT_HERSHEY_SIMPLEX, 0.4, color, 1)\n",
    "    \n",
    "    return frame"
   ]
  },
  {
   "cell_type": "code",
   "execution_count": 22,
   "metadata": {},
   "outputs": [],
   "source": [
    "# Capture from default camera\n",
    "cap = cv2.VideoCapture(0)\n",
    "\n",
    "fourcc = cv2.VideoWriter_fourcc(*\"MJPG\")\n",
    "writer = cv2.VideoWriter(writer_path, fourcc, 10, (frame.shape[1], frame.shape[0]), True)\n",
    "\n",
    "while(True):\n",
    "    start = time.time()\n",
    "    \n",
    "    # Capture frame-by-frame\n",
    "    grabbed, frame = cap.read()\n",
    "    \n",
    "    # Transform frame in 416x416 blob\n",
    "    blob = cv2.dnn.blobFromImage(frame, 1/255, (416, 416), swapRB=True, crop=False)\n",
    "    \n",
    "    # Forward pass\n",
    "    net.setInput(blob)\n",
    "    outputs = net.forward(ln)\n",
    "    \n",
    "    # Post-processing\n",
    "    boxes, confidences, class_ids, selected = process_outputs(outputs, frame_width, frame_height, conf_threshold, nms_threshold)\n",
    "    frame = draw_predictions(frame, boxes, confidences, class_ids, selected, labels, colors)\n",
    "    \n",
    "    end = time.time()\n",
    "    fps = str(round(1/(end-start))) + ' fps'\n",
    "    cv2.putText(frame, fps, (5, 75), cv2.FONT_HERSHEY_SIMPLEX, 0.4, [255, 255, 255], 1)\n",
    "\n",
    "    # Display the frame\n",
    "    cv2.imshow('frame', frame)\n",
    "\n",
    "#     writer.write(frame)\n",
    "    \n",
    "    # Pause code for 1 ms and check key press\n",
    "    if cv2.waitKey(1) & 0xFF == ord('q'):\n",
    "        break\n",
    "        \n",
    "# Release capture\n",
    "writer.release()\n",
    "cap.release()\n",
    "cv2.destroyAllWindows()"
   ]
  },
  {
   "cell_type": "code",
   "execution_count": null,
   "metadata": {},
   "outputs": [],
   "source": []
  }
 ],
 "metadata": {
  "kernelspec": {
   "display_name": "Python 3",
   "language": "python",
   "name": "python3"
  },
  "language_info": {
   "codemirror_mode": {
    "name": "ipython",
    "version": 3
   },
   "file_extension": ".py",
   "mimetype": "text/x-python",
   "name": "python",
   "nbconvert_exporter": "python",
   "pygments_lexer": "ipython3",
   "version": "3.6.9"
  }
 },
 "nbformat": 4,
 "nbformat_minor": 4
}
